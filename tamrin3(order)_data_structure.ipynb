{
  "nbformat": 4,
  "nbformat_minor": 0,
  "metadata": {
    "colab": {
      "provenance": [],
      "mount_file_id": "1lEI29UexD8tUa0popOSGzERhFWJl6M-Q",
      "authorship_tag": "ABX9TyNCUPRwOFKlTvbRCId4LZ9Z",
      "include_colab_link": true
    },
    "kernelspec": {
      "name": "python3",
      "display_name": "Python 3"
    },
    "language_info": {
      "name": "python"
    }
  },
  "cells": [
    {
      "cell_type": "markdown",
      "metadata": {
        "id": "view-in-github",
        "colab_type": "text"
      },
      "source": [
        "<a href=\"https://colab.research.google.com/github/40116341054071/Order_time3/blob/main/tamrin3(order)_data_structure.ipynb\" target=\"_parent\"><img src=\"https://colab.research.google.com/assets/colab-badge.svg\" alt=\"Open In Colab\"/></a>"
      ]
    },
    {
      "cell_type": "code",
      "execution_count": null,
      "metadata": {
        "colab": {
          "base_uri": "https://localhost:8080/"
        },
        "id": "Mp2nphzU2XtP",
        "outputId": "b7e6b84c-f55e-450d-a69c-b547f5cc70df"
      },
      "outputs": [
        {
          "output_type": "stream",
          "name": "stdout",
          "text": [
            "False\n",
            "0:00:02.829451\n"
          ]
        }
      ],
      "source": [
        "import datetime\n",
        "import random\n",
        "start=datetime.datetime.now()\n",
        "def disjoint(A,B,C):\n",
        "  for a in A:\n",
        "    for b in B:\n",
        "      if a==b:\n",
        "        for c in C:\n",
        "          if a==c:\n",
        "            return False\n",
        "  return True\n",
        "n=1000000\n",
        "A=[random.randint(1,100) for i in range(n)]\n",
        "B=[random.randint(1,100) for i in range(n)]\n",
        "C=[random.randint(1,100) for i in range(n)]\n",
        "end=datetime.datetime.now()\n",
        "print(disjoint(A,B,C))\n",
        "print (end-start)"
      ]
    }
  ]
}